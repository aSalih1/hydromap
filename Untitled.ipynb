{
 "cells": [
  {
   "cell_type": "code",
   "execution_count": 1,
   "id": "b7692f1c-04ed-453f-9182-3baa48319ade",
   "metadata": {
    "tags": []
   },
   "outputs": [],
   "source": [
    "import hydromap"
   ]
  },
  {
   "cell_type": "code",
   "execution_count": 2,
   "id": "5411819c-ad10-4dc7-a3ca-f8f04df78ee9",
   "metadata": {
    "tags": []
   },
   "outputs": [
    {
     "data": {
      "text/plain": [
       "'htlzlnuko'"
      ]
     },
     "execution_count": 2,
     "metadata": {},
     "output_type": "execute_result"
    }
   ],
   "source": [
    "hydromap.generate_random_string()"
   ]
  },
  {
   "cell_type": "code",
   "execution_count": 3,
   "id": "231f2fe2-233b-40da-a5e3-28cb765da81d",
   "metadata": {
    "tags": []
   },
   "outputs": [
    {
     "data": {
      "text/plain": [
       "18101"
      ]
     },
     "execution_count": 3,
     "metadata": {},
     "output_type": "execute_result"
    }
   ],
   "source": [
    "hydromap.generate_lucky_number(6)"
   ]
  }
 ],
 "metadata": {
  "kernelspec": {
   "display_name": "Python 3 (ipykernel)",
   "language": "python",
   "name": "python3"
  },
  "language_info": {
   "codemirror_mode": {
    "name": "ipython",
    "version": 3
   },
   "file_extension": ".py",
   "mimetype": "text/x-python",
   "name": "python",
   "nbconvert_exporter": "python",
   "pygments_lexer": "ipython3",
   "version": "3.9.17"
  }
 },
 "nbformat": 4,
 "nbformat_minor": 5
}
